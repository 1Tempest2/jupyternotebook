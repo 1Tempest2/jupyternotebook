{
  "metadata": {
    "kernelspec": {
      "name": "python",
      "display_name": "Python (Pyodide)",
      "language": "python"
    },
    "language_info": {
      "codemirror_mode": {
        "name": "python",
        "version": 3
      },
      "file_extension": ".py",
      "mimetype": "text/x-python",
      "name": "python",
      "nbconvert_exporter": "python",
      "pygments_lexer": "ipython3",
      "version": "3.8"
    }
  },
  "nbformat_minor": 5,
  "nbformat": 4,
  "cells": [
    {
      "id": "d265fb0f-6fe7-4f30-9d84-690d3122c640",
      "cell_type": "markdown",
      "source": "# Data Science Tools and Ecosystem",
      "metadata": {}
    },
    {
      "id": "8879b97b-c370-4533-a618-61ef5f5b8ed6",
      "cell_type": "markdown",
      "source": "In this notebook, Data Science Tools and Ecosystem are summarized.",
      "metadata": {}
    },
    {
      "id": "811140da-eaa0-4e32-80f4-3a69a730ca6a",
      "cell_type": "markdown",
      "source": "**Objectives:**\n- Listing popular languagues\n- Listing popular libraries\n- Listing popular data science IDEs and tools\n- Performing simple arithmetic",
      "metadata": {}
    },
    {
      "id": "1a96999c-e6bc-4003-bb88-7608723891dd",
      "cell_type": "markdown",
      "source": "Some of the popular languages that Data Scientists use are:\n1. Python\n2. R\n3. C++\n4. Java\n5. Scala",
      "metadata": {}
    },
    {
      "id": "0981322d-bd77-4995-bac1-69c6d5029623",
      "cell_type": "markdown",
      "source": "Some of the commonly used libraries used by Data Scientists include:\n1. Scikit-learn\n2. Tensorflow\n3. Pytorch\n4. Pandas\n5. Seaborn",
      "metadata": {}
    },
    {
      "id": "b485e73a-65c2-414b-b162-8a857506b7b1",
      "cell_type": "markdown",
      "source": "|Data Science Tools|\n|------------------|\n|RStudio|\n|Pycharm|\n|Apache Spark|\n|Jupyter Notebook|",
      "metadata": {}
    },
    {
      "id": "0755e5b3-4789-4347-b2ba-7da47e4c9a38",
      "cell_type": "markdown",
      "source": "### Below are a few examples of evaluating arithmetic expressions in Python",
      "metadata": {}
    },
    {
      "id": "cd1fc7da-262c-43a7-8c0f-df648942651a",
      "cell_type": "code",
      "source": "#This a simple arithmetic expression to mutiply then add integers\n(3*4)+5",
      "metadata": {
        "trusted": true
      },
      "outputs": [
        {
          "execution_count": 1,
          "output_type": "execute_result",
          "data": {
            "text/plain": "17"
          },
          "metadata": {}
        }
      ],
      "execution_count": 1
    },
    {
      "id": "ec333949-e96f-4c25-8c26-efcd5b7d44d6",
      "cell_type": "code",
      "source": "#This will convert 200 minutes to hours by diving by 60\n200/60",
      "metadata": {
        "trusted": true
      },
      "outputs": [
        {
          "execution_count": 2,
          "output_type": "execute_result",
          "data": {
            "text/plain": "3.3333333333333335"
          },
          "metadata": {}
        }
      ],
      "execution_count": 2
    },
    {
      "id": "c8b3f5cc-221e-4b55-81da-c237422e2057",
      "cell_type": "markdown",
      "source": "## Author\nBotond",
      "metadata": {}
    },
    {
      "id": "3f78780a-0296-405e-ac1e-fcb6c61bc80c",
      "cell_type": "code",
      "source": "",
      "metadata": {
        "trusted": true
      },
      "outputs": [],
      "execution_count": null
    }
  ]
}